{
 "cells": [
  {
   "cell_type": "code",
   "execution_count": 2,
   "id": "47146467-911f-4227-8d5e-9192601ea0fc",
   "metadata": {},
   "outputs": [],
   "source": [
    "# Importing Required Libraries\n",
    "import numpy as np\n",
    "import pandas as pd\n",
    "import matplotlib.pyplot as plt"
   ]
  },
  {
   "cell_type": "code",
   "execution_count": 3,
   "id": "511dddae-4338-423e-83ed-41154d2b5d24",
   "metadata": {
    "scrolled": true
   },
   "outputs": [],
   "source": [
    "# Reading Data\n",
    "matches = pd.read_csv(r\"C:\\Users\\Kishor Reddy\\Desktop\\datasets\\ipl\\matches.csv\")\n",
    "deliveries = pd.read_csv(r\"C:\\Users\\Kishor Reddy\\Desktop\\datasets\\ipl\\deliveries.csv\")"
   ]
  },
  {
   "cell_type": "code",
   "execution_count": 4,
   "id": "699970d7-fdaf-4d71-afd7-ca8e043982e1",
   "metadata": {
    "scrolled": true
   },
   "outputs": [
    {
     "data": {
      "text/plain": [
       "venue\n",
       "Arun Jaitley Stadium, Delhi                                              2\n",
       "M Chinnaswamy Stadium                                                    2\n",
       "Eden Gardens, Kolkata                                                    2\n",
       "M Chinnaswamy Stadium, Bengaluru                                         1\n",
       "Punjab Cricket Association Stadium, Mohali                               1\n",
       "Narendra Modi Stadium, Ahmedabad                                         1\n",
       "Wankhede Stadium, Mumbai                                                 1\n",
       "Bharat Ratna Shri Atal Bihari Vajpayee Ekana Cricket Stadium, Lucknow    1\n",
       "Zayed Cricket Stadium, Abu Dhabi                                         1\n",
       "Wankhede Stadium                                                         1\n",
       "Holkar Cricket Stadium                                                   1\n",
       "Himachal Pradesh Cricket Association Stadium, Dharamsala                 1\n",
       "Rajiv Gandhi International Stadium, Uppal, Hyderabad                     1\n",
       "MA Chidambaram Stadium, Chepauk                                          1\n",
       "Punjab Cricket Association IS Bindra Stadium, Mohali, Chandigarh         1\n",
       "Dr. Y.S. Rajasekhara Reddy ACA-VDCA Cricket Stadium, Visakhapatnam       1\n",
       "Eden Gardens                                                             1\n",
       "Name: count, dtype: int64"
      ]
     },
     "execution_count": 4,
     "metadata": {},
     "output_type": "execute_result"
    }
   ],
   "source": [
    "max_scores = matches.sort_values(by = \"target_runs\", ascending = False).head(20)[\"venue\"]\n",
    "max_scores.value_counts()"
   ]
  },
  {
   "cell_type": "code",
   "execution_count": 5,
   "id": "b7936258-9334-40c9-a8cb-c113426f2109",
   "metadata": {},
   "outputs": [
    {
     "data": {
      "text/plain": [
       "(1095, 20)"
      ]
     },
     "execution_count": 5,
     "metadata": {},
     "output_type": "execute_result"
    }
   ],
   "source": [
    "matches.shape"
   ]
  },
  {
   "cell_type": "code",
   "execution_count": 6,
   "id": "c58d35c5-162a-4ace-a2cf-73584a5335ff",
   "metadata": {},
   "outputs": [
    {
     "data": {
      "text/plain": [
       "4435640"
      ]
     },
     "execution_count": 6,
     "metadata": {},
     "output_type": "execute_result"
    }
   ],
   "source": [
    "deliveries.size"
   ]
  },
  {
   "cell_type": "code",
   "execution_count": 7,
   "id": "f36b5b0a-e9df-4257-968b-d68175341d29",
   "metadata": {},
   "outputs": [
    {
     "name": "stdout",
     "output_type": "stream",
     "text": [
      "<class 'pandas.core.frame.DataFrame'>\n",
      "RangeIndex: 1095 entries, 0 to 1094\n",
      "Data columns (total 20 columns):\n",
      " #   Column           Non-Null Count  Dtype  \n",
      "---  ------           --------------  -----  \n",
      " 0   id               1095 non-null   int64  \n",
      " 1   season           1095 non-null   object \n",
      " 2   city             1044 non-null   object \n",
      " 3   date             1095 non-null   object \n",
      " 4   match_type       1095 non-null   object \n",
      " 5   player_of_match  1090 non-null   object \n",
      " 6   venue            1095 non-null   object \n",
      " 7   team1            1095 non-null   object \n",
      " 8   team2            1095 non-null   object \n",
      " 9   toss_winner      1095 non-null   object \n",
      " 10  toss_decision    1095 non-null   object \n",
      " 11  winner           1090 non-null   object \n",
      " 12  result           1095 non-null   object \n",
      " 13  result_margin    1076 non-null   float64\n",
      " 14  target_runs      1092 non-null   float64\n",
      " 15  target_overs     1092 non-null   float64\n",
      " 16  super_over       1095 non-null   object \n",
      " 17  method           21 non-null     object \n",
      " 18  umpire1          1095 non-null   object \n",
      " 19  umpire2          1095 non-null   object \n",
      "dtypes: float64(3), int64(1), object(16)\n",
      "memory usage: 171.2+ KB\n"
     ]
    }
   ],
   "source": [
    "# data types of all comlumns of matches data frame\n",
    "matches.info()"
   ]
  },
  {
   "cell_type": "code",
   "execution_count": 8,
   "id": "4922058f-4c2f-496e-aac0-925ec7d7d074",
   "metadata": {},
   "outputs": [],
   "source": [
    "# convert date datatype into datetime datatype\n",
    "matches['date'] = pd.to_datetime(matches['date'])"
   ]
  },
  {
   "cell_type": "code",
   "execution_count": 9,
   "id": "e8f0f1b5-6af2-4269-bca6-16de3150cedd",
   "metadata": {},
   "outputs": [
    {
     "name": "stdout",
     "output_type": "stream",
     "text": [
      "<class 'pandas.core.frame.DataFrame'>\n",
      "RangeIndex: 1095 entries, 0 to 1094\n",
      "Data columns (total 20 columns):\n",
      " #   Column           Non-Null Count  Dtype         \n",
      "---  ------           --------------  -----         \n",
      " 0   id               1095 non-null   int64         \n",
      " 1   season           1095 non-null   object        \n",
      " 2   city             1044 non-null   object        \n",
      " 3   date             1095 non-null   datetime64[ns]\n",
      " 4   match_type       1095 non-null   object        \n",
      " 5   player_of_match  1090 non-null   object        \n",
      " 6   venue            1095 non-null   object        \n",
      " 7   team1            1095 non-null   object        \n",
      " 8   team2            1095 non-null   object        \n",
      " 9   toss_winner      1095 non-null   object        \n",
      " 10  toss_decision    1095 non-null   object        \n",
      " 11  winner           1090 non-null   object        \n",
      " 12  result           1095 non-null   object        \n",
      " 13  result_margin    1076 non-null   float64       \n",
      " 14  target_runs      1092 non-null   float64       \n",
      " 15  target_overs     1092 non-null   float64       \n",
      " 16  super_over       1095 non-null   object        \n",
      " 17  method           21 non-null     object        \n",
      " 18  umpire1          1095 non-null   object        \n",
      " 19  umpire2          1095 non-null   object        \n",
      "dtypes: datetime64[ns](1), float64(3), int64(1), object(15)\n",
      "memory usage: 171.2+ KB\n"
     ]
    }
   ],
   "source": [
    "# datatype of date converted datatime\n",
    "matches.info()"
   ]
  },
  {
   "cell_type": "code",
   "execution_count": 9,
   "id": "8c9479dd-31c2-4635-b92d-b02f9315203b",
   "metadata": {},
   "outputs": [
    {
     "name": "stdout",
     "output_type": "stream",
     "text": [
      "<class 'pandas.core.frame.DataFrame'>\n",
      "RangeIndex: 260920 entries, 0 to 260919\n",
      "Data columns (total 17 columns):\n",
      " #   Column            Non-Null Count   Dtype \n",
      "---  ------            --------------   ----- \n",
      " 0   match_id          260920 non-null  int64 \n",
      " 1   inning            260920 non-null  int64 \n",
      " 2   batting_team      260920 non-null  object\n",
      " 3   bowling_team      260920 non-null  object\n",
      " 4   over              260920 non-null  int64 \n",
      " 5   ball              260920 non-null  int64 \n",
      " 6   batter            260920 non-null  object\n",
      " 7   bowler            260920 non-null  object\n",
      " 8   non_striker       260920 non-null  object\n",
      " 9   batsman_runs      260920 non-null  int64 \n",
      " 10  extra_runs        260920 non-null  int64 \n",
      " 11  total_runs        260920 non-null  int64 \n",
      " 12  extras_type       14125 non-null   object\n",
      " 13  is_wicket         260920 non-null  int64 \n",
      " 14  player_dismissed  12950 non-null   object\n",
      " 15  dismissal_kind    12950 non-null   object\n",
      " 16  fielder           9354 non-null    object\n",
      "dtypes: int64(8), object(9)\n",
      "memory usage: 33.8+ MB\n"
     ]
    }
   ],
   "source": [
    "deliveries.info()"
   ]
  },
  {
   "cell_type": "markdown",
   "id": "49fe15c7-32ff-46f0-a69e-d1c42eeabfa0",
   "metadata": {},
   "source": [
    "## Cleaning Data"
   ]
  },
  {
   "cell_type": "code",
   "execution_count": 10,
   "id": "715c7f95-8956-4c5a-b6ec-bb133107a1c8",
   "metadata": {},
   "outputs": [
    {
     "data": {
      "text/plain": [
       "id                    0\n",
       "season                0\n",
       "city                 51\n",
       "date                  0\n",
       "match_type            0\n",
       "player_of_match       5\n",
       "venue                 0\n",
       "team1                 0\n",
       "team2                 0\n",
       "toss_winner           0\n",
       "toss_decision         0\n",
       "winner                5\n",
       "result                0\n",
       "result_margin        19\n",
       "target_runs           3\n",
       "target_overs          3\n",
       "super_over            0\n",
       "method             1074\n",
       "umpire1               0\n",
       "umpire2               0\n",
       "dtype: int64"
      ]
     },
     "execution_count": 10,
     "metadata": {},
     "output_type": "execute_result"
    }
   ],
   "source": [
    "# nan values\n",
    "matches.isna().sum()"
   ]
  },
  {
   "cell_type": "code",
   "execution_count": 11,
   "id": "467ea0ca-9f08-4668-88f1-5cb0dc8f8f37",
   "metadata": {},
   "outputs": [
    {
     "data": {
      "text/plain": [
       "match_id                 0\n",
       "inning                   0\n",
       "batting_team             0\n",
       "bowling_team             0\n",
       "over                     0\n",
       "ball                     0\n",
       "batter                   0\n",
       "bowler                   0\n",
       "non_striker              0\n",
       "batsman_runs             0\n",
       "extra_runs               0\n",
       "total_runs               0\n",
       "extras_type         246795\n",
       "is_wicket                0\n",
       "player_dismissed    247970\n",
       "dismissal_kind      247970\n",
       "fielder             251566\n",
       "dtype: int64"
      ]
     },
     "execution_count": 11,
     "metadata": {},
     "output_type": "execute_result"
    }
   ],
   "source": [
    "deliveries.isna().sum()"
   ]
  },
  {
   "cell_type": "code",
   "execution_count": 11,
   "id": "7e1520c1-24b1-4e4c-856b-2d0701bec410",
   "metadata": {},
   "outputs": [
    {
     "data": {
      "text/plain": [
       "team1\n",
       "Royal Challengers Bangalore    135\n",
       "Chennai Super Kings            128\n",
       "Mumbai Indians                 123\n",
       "Kolkata Knight Riders          121\n",
       "Rajasthan Royals               101\n",
       "Kings XI Punjab                 92\n",
       "Sunrisers Hyderabad             86\n",
       "Delhi Daredevils                85\n",
       "Delhi Capitals                  41\n",
       "Deccan Chargers                 39\n",
       "Punjab Kings                    31\n",
       "Lucknow Super Giants            23\n",
       "Pune Warriors                   23\n",
       "Gujarat Titans                  21\n",
       "Gujarat Lions                   16\n",
       "Royal Challengers Bengaluru      9\n",
       "Rising Pune Supergiant           7\n",
       "Rising Pune Supergiants          7\n",
       "Kochi Tuskers Kerala             7\n",
       "Name: count, dtype: int64"
      ]
     },
     "execution_count": 11,
     "metadata": {},
     "output_type": "execute_result"
    }
   ],
   "source": [
    "matches.team1.value_counts()"
   ]
  },
  {
   "cell_type": "code",
   "execution_count": 12,
   "id": "a346a1a5-e208-49b5-b1ca-e919a02631e0",
   "metadata": {},
   "outputs": [],
   "source": [
    "# If you Observe there are same teams with different names so we replace those with one single name for the team\n",
    "matches.team1 = matches.team1.replace({\"Royal Challengers Bengaluru\" : \"Royal Challengers Bangalore\",\n",
    "                                       \"Punjab Kings\" : \"Kings XI Punjab\",\n",
    "                                       \"Deccan Chargers\" : \"Sunrisers Hyderabad\",\n",
    "                                       \"Delhi Daredevils\" : \"Delhi Capitals\",\n",
    "                                       \"Gujarat Lions\" : \"Gujarat Titans\",\n",
    "                                       \"Rising Pune Supergiant\" : \"Rising Pune Supergiants\",\n",
    "                                       })\n",
    "matches.team2 = matches.team2.replace({\"Royal Challengers Bengaluru\" : \"Royal Challengers Bangalore\",\n",
    "                                       \"Punjab Kings\" : \"Kings XI Punjab\",\n",
    "                                       \"Deccan Chargers\" : \"Sunrisers Hyderabad\",\n",
    "                                       \"Delhi Daredevils\" : \"Delhi Capitals\",\n",
    "                                       \"Gujarat Lions\" : \"Gujarat Titans\",\n",
    "                                       \"Rising Pune Supergiant\" : \"Rising Pune Supergiants\",\n",
    "                                       })\n",
    "deliveries.batting_team = deliveries.batting_team.replace({\"Royal Challengers Bengaluru\" : \"Royal Challengers Bangalore\",\n",
    "                                                           \"Punjab Kings\" : \"Kings XI Punjab\",\n",
    "                                                           \"Deccan Chargers\" : \"Sunrisers Hyderabad\",\n",
    "                                                           \"Delhi Daredevils\" : \"Delhi Capitals\",\n",
    "                                                           \"Gujarat Lions\" : \"Gujarat Titans\",\n",
    "                                                           \"Rising Pune Supergiant\" : \"Rising Pune Supergiants\",\n",
    "                                                           })\n",
    "deliveries.bowling_team = deliveries.bowling_team.replace({\"Royal Challengers Bengaluru\" : \"Royal Challengers Bangalore\",\n",
    "                                                           \"Punjab Kings\" : \"Kings XI Punjab\",\n",
    "                                                           \"Deccan Chargers\" : \"Sunrisers Hyderabad\",\n",
    "                                                           \"Delhi Daredevils\" : \"Delhi Capitals\",\n",
    "                                                           \"Gujarat Lions\" : \"Gujarat Titans\",\n",
    "                                                           \"Rising Pune Supergiant\" : \"Rising Pune Supergiants\",\n",
    "                                                           })"
   ]
  },
  {
   "cell_type": "code",
   "execution_count": 13,
   "id": "aa262729-ef66-4ddb-b3ab-4b1e49646633",
   "metadata": {},
   "outputs": [
    {
     "data": {
      "text/plain": [
       "team1\n",
       "Royal Challengers Bangalore    144\n",
       "Chennai Super Kings            128\n",
       "Delhi Capitals                 126\n",
       "Sunrisers Hyderabad            125\n",
       "Kings XI Punjab                123\n",
       "Mumbai Indians                 123\n",
       "Kolkata Knight Riders          121\n",
       "Rajasthan Royals               101\n",
       "Gujarat Titans                  37\n",
       "Pune Warriors                   23\n",
       "Lucknow Super Giants            23\n",
       "Rising Pune Supergiants         14\n",
       "Kochi Tuskers Kerala             7\n",
       "Name: count, dtype: int64"
      ]
     },
     "execution_count": 13,
     "metadata": {},
     "output_type": "execute_result"
    }
   ],
   "source": [
    "matches.team1.value_counts()"
   ]
  },
  {
   "cell_type": "code",
   "execution_count": 14,
   "id": "119aa2ed-4714-4bdf-87c2-6b1de3c5650b",
   "metadata": {},
   "outputs": [
    {
     "data": {
      "text/plain": [
       "batting_team\n",
       "Mumbai Indians                 31437\n",
       "Sunrisers Hyderabad            30877\n",
       "Royal Challengers Bangalore    30023\n",
       "Delhi Capitals                 29732\n",
       "Kolkata Knight Riders          29514\n",
       "Kings XI Punjab                29479\n",
       "Chennai Super Kings            28651\n",
       "Rajasthan Royals               26242\n",
       "Gujarat Titans                  9060\n",
       "Pune Warriors                   5443\n",
       "Lucknow Super Giants            5400\n",
       "Rising Pune Supergiants         3480\n",
       "Kochi Tuskers Kerala            1582\n",
       "Name: count, dtype: int64"
      ]
     },
     "execution_count": 14,
     "metadata": {},
     "output_type": "execute_result"
    }
   ],
   "source": [
    "deliveries.batting_team.value_counts()"
   ]
  },
  {
   "cell_type": "code",
   "execution_count": 15,
   "id": "e4cb2c07-a78f-4eab-b58e-0e65528c619e",
   "metadata": {},
   "outputs": [
    {
     "data": {
      "text/plain": [
       "venue\n",
       "Wankhede Stadium, Mumbai                                                 118\n",
       "M Chinnaswamy Stadium, Bengaluru                                          94\n",
       "Eden Gardens, Kolkata                                                     93\n",
       "MA Chidambaram Stadium, Chepauk, Chennai                                  85\n",
       "Rajiv Gandhi International Stadium, Uppal, Hyderabad                      77\n",
       "Feroz Shah Kotla                                                          60\n",
       "Sawai Mansingh Stadium, Jaipur                                            57\n",
       "Dubai International Cricket Stadium                                       46\n",
       "Dr DY Patil Sports Academy, Mumbai                                        37\n",
       "Maharashtra Cricket Association Stadium, Pune                             35\n",
       "Punjab Cricket Association Stadium, Mohali                                35\n",
       "Arun Jaitley Stadium, Delhi                                               30\n",
       "Sheikh Zayed Stadium                                                      29\n",
       "Sharjah Cricket Stadium                                                   28\n",
       "Brabourne Stadium, Mumbai                                                 27\n",
       "Punjab Cricket Association IS Bindra Stadium, Mohali, Chandigarh          26\n",
       "Narendra Modi Stadium, Ahmedabad                                          24\n",
       "Subrata Roy Sahara Stadium                                                16\n",
       "Kingsmead                                                                 15\n",
       "Dr. Y.S. Rajasekhara Reddy ACA-VDCA Cricket Stadium, Visakhapatnam        15\n",
       "Bharat Ratna Shri Atal Bihari Vajpayee Ekana Cricket Stadium, Lucknow     14\n",
       "Himachal Pradesh Cricket Association Stadium, Dharamsala                  13\n",
       "SuperSport Park                                                           12\n",
       "Sardar Patel Stadium, Motera                                              12\n",
       "Saurashtra Cricket Association Stadium                                    10\n",
       "Holkar Cricket Stadium                                                     9\n",
       "New Wanderers Stadium                                                      8\n",
       "Zayed Cricket Stadium, Abu Dhabi                                           8\n",
       "Barabati Stadium                                                           7\n",
       "JSCA International Stadium Complex                                         7\n",
       "St George's Park                                                           7\n",
       "Newlands                                                                   7\n",
       "Shaheed Veer Narayan Singh International Stadium                           6\n",
       "Maharaja Yadavindra Singh International Cricket Stadium, Mullanpur         5\n",
       "Nehru Stadium                                                              5\n",
       "Green Park                                                                 4\n",
       "De Beers Diamond Oval                                                      3\n",
       "Buffalo Park                                                               3\n",
       "Barsapara Cricket Stadium, Guwahati                                        3\n",
       "Vidarbha Cricket Association Stadium, Jamtha                               3\n",
       "OUTsurance Oval                                                            2\n",
       "Name: count, dtype: int64"
      ]
     },
     "execution_count": 15,
     "metadata": {},
     "output_type": "execute_result"
    }
   ],
   "source": [
    "matches.venue = matches.venue.replace({\"M.Chinnaswamy Stadium\" : \"M Chinnaswamy Stadium, Bengaluru\",\n",
    "                                       \"Wankhede Stadium\" : \"Wankhede Stadium, Mumbai\",\n",
    "                                       \"M Chinnaswamy Stadium\" : \"M Chinnaswamy Stadium, Bengaluru\",\n",
    "                                       \"Arun Jaitley Stadium\" : \"Arun Jaitley Stadium, Delhi\",\n",
    "                                       \"Brabourne Stadium\" : \"Brabourne Stadium, Mumbai\",\n",
    "                                       \"Dr DY Patil Sports Academy\" : \"Dr DY Patil Sports Academy, Mumbai\",\n",
    "                                       \"Dr. Y.S. Rajasekhara Reddy ACA-VDCA Cricket Stadium\" : \"Dr. Y.S. Rajasekhara Reddy ACA-VDCA Cricket Stadium, Visakhapatnam\",\n",
    "                                       \"Eden Gardens\" : \"Eden Gardens, Kolkata\",\n",
    "                                       \"Himachal Pradesh Cricket Association Stadium\" : \"Himachal Pradesh Cricket Association Stadium, Dharamsala\",\n",
    "                                       \"MA Chidambaram Stadium\" : \"MA Chidambaram Stadium, Chepauk, Chennai\",\n",
    "                                       \"MA Chidambaram Stadium, Chepauk\" : \"MA Chidambaram Stadium, Chepauk, Chennai\",\n",
    "                                       \"Maharashtra Cricket Association Stadium\" : \"Maharashtra Cricket Association Stadium, Pune\",\n",
    "                                       \"Punjab Cricket Association IS Bindra Stadium\" : \"Punjab Cricket Association IS Bindra Stadium, Mohali, Chandigarh\",\n",
    "                                       \"Punjab Cricket Association IS Bindra Stadium, Mohali\" : \"Punjab Cricket Association IS Bindra Stadium, Mohali, Chandigarh\",\n",
    "                                       \"Rajiv Gandhi International Stadium\" : \"Rajiv Gandhi International Stadium, Uppal, Hyderabad\",\n",
    "                                       \"Rajiv Gandhi International Stadium, Uppal\" : \"Rajiv Gandhi International Stadium, Uppal, Hyderabad\",\n",
    "                                       \"Sawai Mansingh Stadium\" : \"Sawai Mansingh Stadium, Jaipur\",\n",
    "                                       \"Wankhede Stadium\" : \"Wankhede Stadium, Mumbai\"\n",
    "                                       })\n",
    "matches.venue.value_counts()"
   ]
  },
  {
   "cell_type": "markdown",
   "id": "1f6a932d-66b0-4cf2-95ca-ab846c07090e",
   "metadata": {},
   "source": [
    "# Insights"
   ]
  },
  {
   "cell_type": "code",
   "execution_count": 16,
   "id": "f4394524-bc79-4093-b026-31ead060c005",
   "metadata": {},
   "outputs": [
    {
     "data": {
      "text/plain": [
       "batter\n",
       "V Kohli           8014\n",
       "S Dhawan          6769\n",
       "RG Sharma         6630\n",
       "DA Warner         6567\n",
       "SK Raina          5536\n",
       "MS Dhoni          5243\n",
       "AB de Villiers    5181\n",
       "CH Gayle          4997\n",
       "RV Uthappa        4954\n",
       "KD Karthik        4843\n",
       "KL Rahul          4689\n",
       "AM Rahane         4642\n",
       "F du Plessis      4571\n",
       "SV Samson         4419\n",
       "AT Rayudu         4348\n",
       "G Gambhir         4217\n",
       "SR Watson         3880\n",
       "MK Pandey         3859\n",
       "SA Yadav          3594\n",
       "JC Buttler        3583\n",
       "Name: batsman_runs, dtype: int64"
      ]
     },
     "execution_count": 16,
     "metadata": {},
     "output_type": "execute_result"
    }
   ],
   "source": [
    "# 1. Top 20 batsmans Who scored higher runs\n",
    "deliveries.groupby(\"batter\").batsman_runs.sum().sort_values(ascending = False).head(20)"
   ]
  },
  {
   "cell_type": "code",
   "execution_count": 24,
   "id": "2095ec93-5e97-4cb4-8e1e-8db42fc155a7",
   "metadata": {
    "scrolled": true
   },
   "outputs": [
    {
     "data": {
      "text/plain": [
       "batter\n",
       "AD Russell        164.224422\n",
       "SP Narine         155.894309\n",
       "GJ Maxwell        150.488599\n",
       "V Sehwag          148.827059\n",
       "AB de Villiers    148.580442\n",
       "RR Pant           143.597561\n",
       "SA Yadav          142.505948\n",
       "JC Buttler        142.238984\n",
       "CH Gayle          142.121729\n",
       "KA Pollard        140.457703\n",
       "HH Pandya         139.691290\n",
       "YK Pathan         138.046272\n",
       "DA Warner         135.429986\n",
       "SV Samson         135.137615\n",
       "DA Miller         134.684477\n",
       "SR Watson         134.163209\n",
       "F du Plessis      133.071325\n",
       "MS Dhoni          132.835065\n",
       "SK Raina          132.535312\n",
       "KD Karthik        131.353404\n",
       "Q de Kock         131.120332\n",
       "KL Rahul          131.050866\n",
       "N Rana            130.818859\n",
       "V Kohli           128.511867\n",
       "MA Agarwal        128.255646\n",
       "KH Pandya         127.972028\n",
       "RG Sharma         127.918194\n",
       "BB McCullum       126.848592\n",
       "RV Uthappa        126.152279\n",
       "AR Patel          125.417299\n",
       "DJ Bravo          125.100241\n",
       "Yuvraj Singh      124.784776\n",
       "AT Rayudu         124.584527\n",
       "RA Jadeja         124.432296\n",
       "WP Saha           123.902027\n",
       "S Dhawan          123.454313\n",
       "SS Iyer           123.025540\n",
       "AM Rahane         120.321410\n",
       "G Gambhir         119.665153\n",
       "M Vijay           118.614130\n",
       "MK Pandey         117.366180\n",
       "PA Patel          116.625717\n",
       "dtype: float64"
      ]
     },
     "execution_count": 24,
     "metadata": {},
     "output_type": "execute_result"
    }
   ],
   "source": [
    "# 2. Calculate the Strike Rate of batsmans who played more than 100 matches and order them in descending order of Strike Rate and plot it on a suitable Graph\n",
    "batsmans = deliveries.groupby(\"batter\").match_id.nunique()[deliveries.groupby(\"batter\").match_id.nunique() >= 100].index\n",
    "batsmans100 = deliveries[deliveries.batter.isin(batsmans)]\n",
    "(batsmans100.groupby(\"batter\").batsman_runs.sum() / batsmans100.groupby(\"batter\").ball.count() * 100).sort_values(ascending = False)\n"
   ]
  },
  {
   "cell_type": "code",
   "execution_count": 22,
   "id": "2187c115-0a0f-4c31-9fca-ef6968f8ea45",
   "metadata": {},
   "outputs": [
    {
     "name": "stdout",
     "output_type": "stream",
     "text": [
      "Match Winning probabiltiy if the team won Toss :  0.5059360730593607\n",
      "Match Winning probabiltiy if the team won Loss :  0.4940639269406393\n"
     ]
    }
   ],
   "source": [
    "# 3. Calculate the Probability of the team to win the match if it won the toss and loss the toss and Display it through a Pie chart\n",
    "toss_match_won = matches[matches.toss_winner == matches.winner].id.count()\n",
    "total_matches = matches.id.count()\n",
    "toss_match_won_probability = toss_match_won / total_matches\n",
    "toss_loss_probability = 1 - toss_match_won_probability\n",
    "print(\"Match Winning probabiltiy if the team won Toss : \", toss_match_won_probability)\n",
    "print(\"Match Winning probabiltiy if the team won Loss : \", toss_loss_probability)\n",
    "# It is almost Equal"
   ]
  },
  {
   "cell_type": "code",
   "execution_count": 18,
   "id": "5542cc0b-fcaa-4a7c-8646-a4915811849d",
   "metadata": {},
   "outputs": [
    {
     "name": "stdout",
     "output_type": "stream",
     "text": [
      "batter    MS Dhoni    V Kohli\n",
      "season                       \n",
      "2007/08  29.571429  13.750000\n",
      "2009     25.538462  18.923077\n",
      "2009/10  26.090909  23.615385\n",
      "2011     30.153846  34.812500\n",
      "2012     21.058824  24.266667\n",
      "2013     28.812500  39.937500\n",
      "2014     24.733333  25.642857\n",
      "2015     21.882353  31.562500\n",
      "2016     23.666667  60.812500\n",
      "2017     19.333333  30.800000\n",
      "2018     30.333333  37.857143\n",
      "2019     34.666667  33.142857\n",
      "2020/21  16.666667  31.400000\n",
      "2021     10.363636  27.000000\n",
      "2022     19.333333  21.312500\n",
      "2023      8.666667  45.642857\n",
      "2024     14.636364  49.400000\n"
     ]
    }
   ],
   "source": [
    "# 4. calculate the avg runs scored in matches by Virat kohli and MS Dhoni for every Season \n",
    "season = pd.merge(matches[['id', 'season']], deliveries, left_on= 'id', right_on = 'match_id')\n",
    "players = season[season['batter'].isin([\"V Kohli\", \"MS Dhoni\"])]\n",
    "avg_runs = pd.pivot_table(players, values = 'batsman_runs', index = [\"season\", \"batter\"], columns = \"match_id\", aggfunc = 'sum').mean(axis = 1).unstack()\n",
    "print(avg_runs)\n",
    "\n"
   ]
  },
  {
   "cell_type": "code",
   "execution_count": 19,
   "id": "77abeefa-c97a-488e-83c0-0a1a7ff2e75f",
   "metadata": {},
   "outputs": [
    {
     "data": {
      "text/plain": [
       "venue\n",
       "M Chinnaswamy Stadium, Bengaluru                                         3\n",
       "Eden Gardens, Kolkata                                                    3\n",
       "Arun Jaitley Stadium, Delhi                                              2\n",
       "Wankhede Stadium, Mumbai                                                 2\n",
       "Rajiv Gandhi International Stadium, Uppal, Hyderabad                     1\n",
       "Dr. Y.S. Rajasekhara Reddy ACA-VDCA Cricket Stadium, Visakhapatnam       1\n",
       "Punjab Cricket Association IS Bindra Stadium, Mohali, Chandigarh         1\n",
       "MA Chidambaram Stadium, Chepauk, Chennai                                 1\n",
       "Holkar Cricket Stadium                                                   1\n",
       "Himachal Pradesh Cricket Association Stadium, Dharamsala                 1\n",
       "Punjab Cricket Association Stadium, Mohali                               1\n",
       "Zayed Cricket Stadium, Abu Dhabi                                         1\n",
       "Bharat Ratna Shri Atal Bihari Vajpayee Ekana Cricket Stadium, Lucknow    1\n",
       "Narendra Modi Stadium, Ahmedabad                                         1\n",
       "Name: count, dtype: int64"
      ]
     },
     "execution_count": 19,
     "metadata": {},
     "output_type": "execute_result"
    }
   ],
   "source": [
    "# 5. We all Know that ChinnaSwammy Stadium has small boundaries,\n",
    "# Does it mean the runs scored in the ChinnaSwammy stadium are higher,\n",
    "# so check how many match scores are scored in ChinnaSwammy stadium of Top 20 Match scores.\n",
    "max_scores = matches.sort_values(by = \"target_runs\", ascending = False).head(20)[\"venue\"]\n",
    "max_scores.value_counts()"
   ]
  },
  {
   "cell_type": "code",
   "execution_count": 23,
   "id": "71f90ca7-2f4a-4253-8f36-56f969120c42",
   "metadata": {},
   "outputs": [
    {
     "data": {
      "text/html": [
       "<div>\n",
       "<style scoped>\n",
       "    .dataframe tbody tr th:only-of-type {\n",
       "        vertical-align: middle;\n",
       "    }\n",
       "\n",
       "    .dataframe tbody tr th {\n",
       "        vertical-align: top;\n",
       "    }\n",
       "\n",
       "    .dataframe thead th {\n",
       "        text-align: right;\n",
       "    }\n",
       "</style>\n",
       "<table border=\"1\" class=\"dataframe\">\n",
       "  <thead>\n",
       "    <tr style=\"text-align: right;\">\n",
       "      <th></th>\n",
       "      <th>winner</th>\n",
       "    </tr>\n",
       "    <tr>\n",
       "      <th>season</th>\n",
       "      <th></th>\n",
       "    </tr>\n",
       "  </thead>\n",
       "  <tbody>\n",
       "    <tr>\n",
       "      <th>2007/08</th>\n",
       "      <td>Rajasthan Royals</td>\n",
       "    </tr>\n",
       "    <tr>\n",
       "      <th>2009</th>\n",
       "      <td>Deccan Chargers</td>\n",
       "    </tr>\n",
       "    <tr>\n",
       "      <th>2009/10</th>\n",
       "      <td>Chennai Super Kings</td>\n",
       "    </tr>\n",
       "    <tr>\n",
       "      <th>2011</th>\n",
       "      <td>Chennai Super Kings</td>\n",
       "    </tr>\n",
       "    <tr>\n",
       "      <th>2012</th>\n",
       "      <td>Kolkata Knight Riders</td>\n",
       "    </tr>\n",
       "    <tr>\n",
       "      <th>2013</th>\n",
       "      <td>Mumbai Indians</td>\n",
       "    </tr>\n",
       "    <tr>\n",
       "      <th>2014</th>\n",
       "      <td>Kolkata Knight Riders</td>\n",
       "    </tr>\n",
       "    <tr>\n",
       "      <th>2015</th>\n",
       "      <td>Mumbai Indians</td>\n",
       "    </tr>\n",
       "    <tr>\n",
       "      <th>2016</th>\n",
       "      <td>Sunrisers Hyderabad</td>\n",
       "    </tr>\n",
       "    <tr>\n",
       "      <th>2017</th>\n",
       "      <td>Mumbai Indians</td>\n",
       "    </tr>\n",
       "    <tr>\n",
       "      <th>2018</th>\n",
       "      <td>Chennai Super Kings</td>\n",
       "    </tr>\n",
       "    <tr>\n",
       "      <th>2019</th>\n",
       "      <td>Mumbai Indians</td>\n",
       "    </tr>\n",
       "    <tr>\n",
       "      <th>2020/21</th>\n",
       "      <td>Mumbai Indians</td>\n",
       "    </tr>\n",
       "    <tr>\n",
       "      <th>2021</th>\n",
       "      <td>Chennai Super Kings</td>\n",
       "    </tr>\n",
       "    <tr>\n",
       "      <th>2022</th>\n",
       "      <td>Gujarat Titans</td>\n",
       "    </tr>\n",
       "    <tr>\n",
       "      <th>2023</th>\n",
       "      <td>Chennai Super Kings</td>\n",
       "    </tr>\n",
       "    <tr>\n",
       "      <th>2024</th>\n",
       "      <td>Kolkata Knight Riders</td>\n",
       "    </tr>\n",
       "  </tbody>\n",
       "</table>\n",
       "</div>"
      ],
      "text/plain": [
       "                        winner\n",
       "season                        \n",
       "2007/08       Rajasthan Royals\n",
       "2009           Deccan Chargers\n",
       "2009/10    Chennai Super Kings\n",
       "2011       Chennai Super Kings\n",
       "2012     Kolkata Knight Riders\n",
       "2013            Mumbai Indians\n",
       "2014     Kolkata Knight Riders\n",
       "2015            Mumbai Indians\n",
       "2016       Sunrisers Hyderabad\n",
       "2017            Mumbai Indians\n",
       "2018       Chennai Super Kings\n",
       "2019            Mumbai Indians\n",
       "2020/21         Mumbai Indians\n",
       "2021       Chennai Super Kings\n",
       "2022            Gujarat Titans\n",
       "2023       Chennai Super Kings\n",
       "2024     Kolkata Knight Riders"
      ]
     },
     "execution_count": 23,
     "metadata": {},
     "output_type": "execute_result"
    }
   ],
   "source": [
    "# 6. Find the ipl cup winner team of each Sesaon From 2008 to 2024 \n",
    "matches[matches.match_type == \"Final\"][[\"season\", \"winner\"]].set_index(\"season\")\n"
   ]
  },
  {
   "cell_type": "code",
   "execution_count": null,
   "id": "e13fff17-d2fe-4cc3-af7a-c2c6b8c966bf",
   "metadata": {},
   "outputs": [],
   "source": []
  }
 ],
 "metadata": {
  "kernelspec": {
   "display_name": "Python 3 (ipykernel)",
   "language": "python",
   "name": "python3"
  },
  "language_info": {
   "codemirror_mode": {
    "name": "ipython",
    "version": 3
   },
   "file_extension": ".py",
   "mimetype": "text/x-python",
   "name": "python",
   "nbconvert_exporter": "python",
   "pygments_lexer": "ipython3",
   "version": "3.12.2"
  }
 },
 "nbformat": 4,
 "nbformat_minor": 5
}
